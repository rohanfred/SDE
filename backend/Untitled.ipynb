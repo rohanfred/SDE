{
 "cells": [
  {
   "cell_type": "code",
   "execution_count": 1,
   "id": "2a8ff310-aa53-4407-8724-332cf4b8c5e5",
   "metadata": {},
   "outputs": [
    {
     "data": {
      "text/plain": [
       "True"
      ]
     },
     "execution_count": 1,
     "metadata": {},
     "output_type": "execute_result"
    }
   ],
   "source": [
    "from dotenv import load_dotenv\n",
    "load_dotenv()"
   ]
  },
  {
   "cell_type": "code",
   "execution_count": 2,
   "id": "010210ac-3cf8-4283-b81f-60b064835710",
   "metadata": {},
   "outputs": [
    {
     "name": "stdout",
     "output_type": "stream",
     "text": [
      "10_1727419161.46756.txt\n",
      "11_1727419162.401799.txt\n",
      "120_1727410374.476608.png\n",
      "12_1727419161.769637.txt\n",
      "13_1727419162.198995.txt\n",
      "14_1727419163.186631.txt\n",
      "15_1727419163.361649.txt\n",
      "16_1727419163.526013.txt\n",
      "17_1727419163.934971.txt\n",
      "18_1727419163.65238.txt\n",
      "19_1727419163.809157.txt\n",
      "1_1727088342.381465.png\n",
      "1_1727088359.792032.png\n",
      "1_1727178732.000114.png\n",
      "1_1727365225.565474.png\n",
      "1_1727369854.592038.png\n",
      "1_1727369894.391692.png\n",
      "1_1727370295.523625.png\n",
      "1_1727372735.686874.png\n",
      "1_1727372957.142324.png\n",
      "1_1727374525.846429.png\n",
      "1_1727374630.18105.png\n",
      "1_1727375845.643167.png\n",
      "1_1727376313.816062.png\n",
      "1_1727376507.840541.png\n",
      "1_1727415874.489552.txt\n",
      "1_1727418732.928189.txt\n",
      "1_1727418877.623335.txt\n",
      "20_1727419169.486044.txt\n",
      "21_1727419169.648284.txt\n",
      "22_1727419168.233715.txt\n",
      "23_1727419169.024374.txt\n",
      "24_1727419169.167355.txt\n",
      "25_1727419169.32316.txt\n",
      "26_1727419168.421871.txt\n",
      "27_1727419168.883939.txt\n",
      "28_1727419168.582472.txt\n",
      "29_1727419168.709297.txt\n",
      "2_1727376360.802131.png\n",
      "2_1727418734.394646.txt\n",
      "2_1727418876.240552.txt\n",
      "30_1727419165.912224.txt\n",
      "31_1727419167.475284.txt\n",
      "32_1727419167.95052.txt\n",
      "33_1727419168.075417.txt\n",
      "34_1727419167.314869.txt\n",
      "35_1727419167.776747.txt\n",
      "36_1727419167.635257.txt\n",
      "37_1727419166.667083.txt\n",
      "38_1727419166.071323.txt\n",
      "39_1727419166.984109.txt\n",
      "3_1727351734.58539.pdf\n",
      "3_1727351925.214151.pdf\n",
      "3_1727371722.987316.pdf\n",
      "3_1727371975.354284.pdf\n",
      "3_1727373840.739261.pdf\n",
      "3_1727374476.520317.pdf\n",
      "3_1727419096.205238.txt\n",
      "40_1727419167.126345.txt\n",
      "41_1727419169.808474.txt\n",
      "42_1727419166.360643.txt\n",
      "43_1727419166.823698.txt\n",
      "44_1727419166.524066.txt\n",
      "45_1727419164.139765.txt\n",
      "46_1727419164.456024.txt\n",
      "47_1727419165.103887.txt\n",
      "48_1727419165.753791.txt\n",
      "49_1727419164.281095.txt\n",
      "4_1727419160.081458.txt\n",
      "50_1727419164.619526.txt\n",
      "5_1727419163.030331.txt\n",
      "6_1727419161.61111.txt\n",
      "7_1727419162.573976.txt\n",
      "8_1727419162.715901.txt\n",
      "9_1727419162.873076.txt\n"
     ]
    }
   ],
   "source": [
    "import boto3\n",
    "import os\n",
    "s3 = boto3.resource('s3')\n",
    "\n",
    "my_bucket = s3.Bucket(os.getenv('S3_BUCKET'))\n",
    "\n",
    "for file in my_bucket.objects.all():\n",
    "    print(file.key)"
   ]
  },
  {
   "cell_type": "code",
   "execution_count": 15,
   "id": "f7bed892-f348-4ff0-a340-50ccbd9a5e6f",
   "metadata": {},
   "outputs": [
    {
     "data": {
      "text/plain": [
       "'2024-09-23T13:47:21.060908+00:00'"
      ]
     },
     "execution_count": 15,
     "metadata": {},
     "output_type": "execute_result"
    }
   ],
   "source": [
    "import datetime\n",
    "datetime.datetime.now(datetime.timezone.utc).isoformat()"
   ]
  },
  {
   "cell_type": "code",
   "execution_count": 2,
   "id": "9d93b52d-1c21-48cb-ae42-d7ca32ea5ed3",
   "metadata": {},
   "outputs": [],
   "source": []
  },
  {
   "cell_type": "code",
   "execution_count": 3,
   "id": "6ddbe265-c630-4440-8bb2-214219ecdc72",
   "metadata": {},
   "outputs": [
    {
     "ename": "RuntimeError",
     "evalue": "This event loop is already running",
     "output_type": "error",
     "traceback": [
      "\u001b[1;31m---------------------------------------------------------------------------\u001b[0m",
      "\u001b[1;31mRuntimeError\u001b[0m                              Traceback (most recent call last)",
      "Cell \u001b[1;32mIn[3], line 49\u001b[0m\n\u001b[0;32m     47\u001b[0m         lstres\u001b[38;5;241m=\u001b[39mloop\u001b[38;5;241m.\u001b[39mrun_until_complete(_aiopost(reqs))\n\u001b[0;32m     48\u001b[0m     \u001b[38;5;28;01mreturn\u001b[39;00m lstres\n\u001b[1;32m---> 49\u001b[0m results\u001b[38;5;241m=\u001b[39m\u001b[43mmain\u001b[49m\u001b[43m(\u001b[49m\u001b[43mreqs\u001b[49m\u001b[43m,\u001b[49m\u001b[43mtyp\u001b[49m\u001b[38;5;241;43m=\u001b[39;49m\u001b[38;5;124;43m\"\u001b[39;49m\u001b[38;5;124;43mpost\u001b[39;49m\u001b[38;5;124;43m\"\u001b[39;49m\u001b[43m)\u001b[49m\n\u001b[0;32m     50\u001b[0m results\n",
      "Cell \u001b[1;32mIn[3], line 47\u001b[0m, in \u001b[0;36mmain\u001b[1;34m(reqs, typ)\u001b[0m\n\u001b[0;32m     45\u001b[0m     lstres\u001b[38;5;241m=\u001b[39mloop\u001b[38;5;241m.\u001b[39mrun_until_complete(_aioget(reqs))\n\u001b[0;32m     46\u001b[0m \u001b[38;5;28;01melif\u001b[39;00m typ\u001b[38;5;241m==\u001b[39m\u001b[38;5;124m\"\u001b[39m\u001b[38;5;124mpost\u001b[39m\u001b[38;5;124m\"\u001b[39m:\n\u001b[1;32m---> 47\u001b[0m     lstres\u001b[38;5;241m=\u001b[39m\u001b[43mloop\u001b[49m\u001b[38;5;241;43m.\u001b[39;49m\u001b[43mrun_until_complete\u001b[49m\u001b[43m(\u001b[49m\u001b[43m_aiopost\u001b[49m\u001b[43m(\u001b[49m\u001b[43mreqs\u001b[49m\u001b[43m)\u001b[49m\u001b[43m)\u001b[49m\n\u001b[0;32m     48\u001b[0m \u001b[38;5;28;01mreturn\u001b[39;00m lstres\n",
      "File \u001b[1;32m~\\AppData\\Local\\Programs\\Python\\Python312\\Lib\\asyncio\\base_events.py:663\u001b[0m, in \u001b[0;36mBaseEventLoop.run_until_complete\u001b[1;34m(self, future)\u001b[0m\n\u001b[0;32m    652\u001b[0m \u001b[38;5;250m\u001b[39m\u001b[38;5;124;03m\"\"\"Run until the Future is done.\u001b[39;00m\n\u001b[0;32m    653\u001b[0m \n\u001b[0;32m    654\u001b[0m \u001b[38;5;124;03mIf the argument is a coroutine, it is wrapped in a Task.\u001b[39;00m\n\u001b[1;32m   (...)\u001b[0m\n\u001b[0;32m    660\u001b[0m \u001b[38;5;124;03mReturn the Future's result, or raise its exception.\u001b[39;00m\n\u001b[0;32m    661\u001b[0m \u001b[38;5;124;03m\"\"\"\u001b[39;00m\n\u001b[0;32m    662\u001b[0m \u001b[38;5;28mself\u001b[39m\u001b[38;5;241m.\u001b[39m_check_closed()\n\u001b[1;32m--> 663\u001b[0m \u001b[38;5;28;43mself\u001b[39;49m\u001b[38;5;241;43m.\u001b[39;49m\u001b[43m_check_running\u001b[49m\u001b[43m(\u001b[49m\u001b[43m)\u001b[49m\n\u001b[0;32m    665\u001b[0m new_task \u001b[38;5;241m=\u001b[39m \u001b[38;5;129;01mnot\u001b[39;00m futures\u001b[38;5;241m.\u001b[39misfuture(future)\n\u001b[0;32m    666\u001b[0m future \u001b[38;5;241m=\u001b[39m tasks\u001b[38;5;241m.\u001b[39mensure_future(future, loop\u001b[38;5;241m=\u001b[39m\u001b[38;5;28mself\u001b[39m)\n",
      "File \u001b[1;32m~\\AppData\\Local\\Programs\\Python\\Python312\\Lib\\asyncio\\base_events.py:622\u001b[0m, in \u001b[0;36mBaseEventLoop._check_running\u001b[1;34m(self)\u001b[0m\n\u001b[0;32m    620\u001b[0m \u001b[38;5;28;01mdef\u001b[39;00m \u001b[38;5;21m_check_running\u001b[39m(\u001b[38;5;28mself\u001b[39m):\n\u001b[0;32m    621\u001b[0m     \u001b[38;5;28;01mif\u001b[39;00m \u001b[38;5;28mself\u001b[39m\u001b[38;5;241m.\u001b[39mis_running():\n\u001b[1;32m--> 622\u001b[0m         \u001b[38;5;28;01mraise\u001b[39;00m \u001b[38;5;167;01mRuntimeError\u001b[39;00m(\u001b[38;5;124m'\u001b[39m\u001b[38;5;124mThis event loop is already running\u001b[39m\u001b[38;5;124m'\u001b[39m)\n\u001b[0;32m    623\u001b[0m     \u001b[38;5;28;01mif\u001b[39;00m events\u001b[38;5;241m.\u001b[39m_get_running_loop() \u001b[38;5;129;01mis\u001b[39;00m \u001b[38;5;129;01mnot\u001b[39;00m \u001b[38;5;28;01mNone\u001b[39;00m:\n\u001b[0;32m    624\u001b[0m         \u001b[38;5;28;01mraise\u001b[39;00m \u001b[38;5;167;01mRuntimeError\u001b[39;00m(\n\u001b[0;32m    625\u001b[0m             \u001b[38;5;124m'\u001b[39m\u001b[38;5;124mCannot run the event loop while another loop is running\u001b[39m\u001b[38;5;124m'\u001b[39m)\n",
      "\u001b[1;31mRuntimeError\u001b[0m: This event loop is already running"
     ]
    }
   ],
   "source": [
    "from io import BytesIO\n",
    "import asyncio\n",
    "import aiohttp\n",
    "import traceback\n",
    "import json\n",
    "async def _post(session,url,hdr,payl,prm={},jsn=None,vrf=True,tout=5,xdi={}):\n",
    "    bio=BytesIO(b'')\n",
    "    if jsn:\n",
    "        jsn=payl,\n",
    "        payl=None\n",
    "    try:\n",
    "        async with session.post(url,headers=hdr,data=payl,params=prm,ssl=vrf,json=jsn,timeout=tout):\n",
    "            async for chk in res.content:\n",
    "                bio.write(chk)\n",
    "            rescd=res.status\n",
    "            bio.seek(0)\n",
    "            \n",
    "    except Exception as ex:\n",
    "        traceback.print_exc()\n",
    "    finally:\n",
    "        session.close()\n",
    "    return bio.read()\n",
    "\n",
    "\n",
    "def asjson(reses):\n",
    "    lst=[]\n",
    "    for byts in reses:\n",
    "        lst.append(json.loads(byts))\n",
    "    return lst\n",
    "    \n",
    "async def _aiopost(reqs):\n",
    "    # async with aiohttp.ClientSession(connector=aiohttp.TCPConnector(limit=aiolim)) as session:\n",
    "        tasks=[]\n",
    "        for req in reqs:\n",
    "            session=aiohttp.ClientSession(connector=aiohttp.TCPConnector(limit=aiolim))\n",
    "            url,hdr,payl=req.pop(\"url\"),req.pop(\"hdr\"),req.pop(\"payl\")\n",
    "            tsk=asyncio.ensure_future(_post(session, url,hdr,payl,**req))\n",
    "            tasks.append(tsk)\n",
    "        reses = await asyncio.gather(*tasks)\n",
    "        return asjson(reses)\n",
    "\n",
    "reqs=[{\"url\":\"https://localhost:8000/register\",\"hdr\":{},\"payl\":{\"username\": \"string\",\"password\": \"string\",\"email\": \"string\"}}]\n",
    "\n",
    "def main(reqs,typ=\"get\"):\n",
    "    loop = asyncio.get_event_loop()\n",
    "    if typ==\"get\":\n",
    "        lstres=loop.run_until_complete(_aioget(reqs))\n",
    "    elif typ==\"post\":\n",
    "        lstres=loop.run_until_complete(_aiopost(reqs))\n",
    "    return lstres\n",
    "results=main(reqs,typ=\"post\")\n",
    "results"
   ]
  },
  {
   "cell_type": "code",
   "execution_count": 6,
   "id": "ee6d50de-1cf8-4bf0-bff6-ceb72c4ddf62",
   "metadata": {},
   "outputs": [
    {
     "data": {
      "text/plain": [
       "b'{\"message\":\"user created successfully\"}'"
      ]
     },
     "execution_count": 6,
     "metadata": {},
     "output_type": "execute_result"
    }
   ],
   "source": [
    "import requests\n",
    "res=requests.post('http://localhost:8000/register',json={\"username\":\"usr\",\"password\":\"pass\",\"email\":\"mail\"})\n",
    "res.content"
   ]
  }
 ],
 "metadata": {
  "kernelspec": {
   "display_name": "Python 3 (ipykernel)",
   "language": "python",
   "name": "python3"
  },
  "language_info": {
   "codemirror_mode": {
    "name": "ipython",
    "version": 3
   },
   "file_extension": ".py",
   "mimetype": "text/x-python",
   "name": "python",
   "nbconvert_exporter": "python",
   "pygments_lexer": "ipython3",
   "version": "3.12.6"
  }
 },
 "nbformat": 4,
 "nbformat_minor": 5
}
